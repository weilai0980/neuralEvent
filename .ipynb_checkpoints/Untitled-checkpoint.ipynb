{
 "cells": [
  {
   "cell_type": "code",
   "execution_count": null,
   "metadata": {
    "collapsed": true
   },
   "outputs": [],
   "source": [
    "http://preshing.com/20111007/how-to-generate-random-timings-for-a-poisson-process/\n",
    "    \n",
    "    \n",
    "https://sites.google.com/site/htxu313/\n",
    "    \n",
    "    \n",
    "reinforced poisson process \n",
    "\n",
    "Datasets:\n",
    "    \n",
    "https://archive.ics.uci.edu/ml/datasets/Occupancy+Detection+#\n",
    "    \n",
    "https://archive.ics.uci.edu/ml/datasets/Taxi+Service+Trajectory+-+Prediction+Challenge%2C+ECML+PKDD+2015\n",
    "    \n",
    "https://archive.ics.uci.edu/ml/datasets/Dodgers+Loop+Sensor\n",
    "    \n",
    "https://archive.ics.uci.edu/ml/datasets/Amazon+Access+Samples"
   ]
  }
 ],
 "metadata": {
  "kernelspec": {
   "display_name": "Python 2",
   "language": "python",
   "name": "python2"
  },
  "language_info": {
   "codemirror_mode": {
    "name": "ipython",
    "version": 2
   },
   "file_extension": ".py",
   "mimetype": "text/x-python",
   "name": "python",
   "nbconvert_exporter": "python",
   "pygments_lexer": "ipython2",
   "version": "2.7.6"
  }
 },
 "nbformat": 4,
 "nbformat_minor": 0
}
