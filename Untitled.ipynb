{
 "cells": [
  {
   "cell_type": "code",
   "execution_count": null,
   "metadata": {
    "collapsed": true
   },
   "outputs": [],
   "source": [
    "http://preshing.com/20111007/how-to-generate-random-timings-for-a-poisson-process/\n",
    "    \n",
    "    \n",
    "https://sites.google.com/site/htxu313/\n",
    "    \n",
    "    \n",
    "reinforced poisson process \n",
    "\n",
    "Datasets:\n",
    "    \n",
    "https://archive.ics.uci.edu/ml/datasets/Occupancy+Detection+#\n",
    "    \n",
    "https://archive.ics.uci.edu/ml/datasets/Taxi+Service+Trajectory+-+Prediction+Challenge%2C+ECML+PKDD+2015\n",
    "    \n",
    "https://archive.ics.uci.edu/ml/datasets/Dodgers+Loop+Sensor\n",
    "    \n",
    "https://archive.ics.uci.edu/ml/datasets/Amazon+Access+Samples\n",
    "    \n",
    "    \n",
    "    \n",
    "https://physionet.org/mimic2/\n",
    "    \n",
    "http://www.comp.lancs.ac.uk/~elkhatib/p2p14/"
   ]
  },
  {
   "cell_type": "code",
   "execution_count": null,
   "metadata": {
    "collapsed": true
   },
   "outputs": [],
   "source": [
    "# data processing packages\n",
    "import numpy as np   \n",
    "import pandas as pd \n",
    "from pandas import *\n",
    "from numpy import *\n",
    "\n",
    "from scipy import stats # look at scipy\n",
    "from scipy import linalg\n",
    "from scipy import *\n",
    " \n",
    "%matplotlib inline    \n",
    "import matplotlib as mplt\n",
    "from matplotlib import cm\n",
    "import matplotlib.pyplot as plt\n",
    "import matplotlib.gridspec as gridspec\n",
    "\n",
    "import IPython\n",
    "from IPython.display import display\n",
    "\n",
    "import matplotlib\n",
    "from matplotlib.ticker import FuncFormatter\n",
    "import matplotlib.pyplot as plt\n",
    "# matplotlib.style.use('ggplot')\n",
    "import itertools\n",
    "import random\n",
    "\n",
    "# machine leanring packages\n",
    "from sklearn.metrics import accuracy_score\n",
    "from sklearn.model_selection import train_test_split\n",
    "from sklearn.model_selection import cross_val_score\n",
    "from sklearn.metrics import precision_recall_fscore_support as score\n",
    "\n",
    "from utils_dataPrepro import *"
   ]
  },
  {
   "cell_type": "code",
   "execution_count": null,
   "metadata": {
    "collapsed": true
   },
   "outputs": [],
   "source": [
    "addr = \"../../dataset/dataset_ts/stock.csv\"\n",
    "dta_df = pd.read_csv( addr ,sep=',')\n",
    "print 'Shape of the dataset: ', dta_df.shape"
   ]
  }
 ],
 "metadata": {
  "kernelspec": {
   "display_name": "Python 2",
   "language": "python",
   "name": "python2"
  },
  "language_info": {
   "codemirror_mode": {
    "name": "ipython",
    "version": 2
   },
   "file_extension": ".py",
   "mimetype": "text/x-python",
   "name": "python",
   "nbconvert_exporter": "python",
   "pygments_lexer": "ipython2",
   "version": "2.7.6"
  }
 },
 "nbformat": 4,
 "nbformat_minor": 0
}
